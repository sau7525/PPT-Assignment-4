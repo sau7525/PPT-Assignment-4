{
 "cells": [
  {
   "cell_type": "markdown",
   "id": "506d9e7a-ac30-4eac-b0fa-b7b5bc7a40d9",
   "metadata": {},
   "source": [
    "# ans 1"
   ]
  },
  {
   "cell_type": "code",
   "execution_count": 6,
   "id": "70039c42-2a48-4dc7-a764-026edc660706",
   "metadata": {},
   "outputs": [
    {
     "name": "stdout",
     "output_type": "stream",
     "text": [
      "[1, 5]\n"
     ]
    }
   ],
   "source": [
    "def find_common_elements(arr1, arr2, arr3):\n",
    "    i = j = k = 0\n",
    "    result = []\n",
    "\n",
    "    while i < len(arr1) and j < len(arr2) and k < len(arr3):\n",
    "        if arr1[i] == arr2[j] == arr3[k]:\n",
    "            result.append(arr1[i])\n",
    "            i += 1\n",
    "            j += 1\n",
    "            k += 1\n",
    "        elif arr1[i] <= arr2[j] and arr1[i] <= arr3[k]:\n",
    "            i += 1\n",
    "        elif arr2[j] <= arr1[i] and arr2[j] <= arr3[k]:\n",
    "            j += 1\n",
    "        elif arr3[k] <= arr1[i] and arr3[k] <= arr2[j]:\n",
    "            k += 1\n",
    "\n",
    "    return result\n",
    "\n",
    "\n",
    "arr1 = [1, 2, 3, 4, 5]\n",
    "arr2 = [1, 2, 5, 7, 9]\n",
    "arr3 = [1, 3, 4, 5, 8]\n",
    "\n",
    "result = find_common_elements(arr1, arr2, arr3)\n",
    "print(result)\n"
   ]
  },
  {
   "cell_type": "markdown",
   "id": "38548b8d-3f8e-43d0-b616-c88cf90fdfc2",
   "metadata": {},
   "source": [
    "# ans 2"
   ]
  },
  {
   "cell_type": "code",
   "execution_count": 5,
   "id": "656ed103-69e5-44d8-8d46-1617833e6516",
   "metadata": {},
   "outputs": [
    {
     "name": "stdout",
     "output_type": "stream",
     "text": [
      "[[1, 3], [4, 6]]\n"
     ]
    }
   ],
   "source": [
    "def find_missing_elements(nums1, nums2):\n",
    "    set_nums1 = set(nums1)\n",
    "    set_nums2 = set(nums2)\n",
    "\n",
    "    diff_nums1 = list(set_nums1 - set_nums2)\n",
    "    diff_nums2 = list(set_nums2 - set_nums1)\n",
    "\n",
    "    return [diff_nums1, diff_nums2]\n",
    "\n",
    "\n",
    "nums1 = [1, 2, 3]\n",
    "nums2 = [2, 4, 6]\n",
    "\n",
    "result = find_missing_elements(nums1, nums2)\n",
    "print(result)\n"
   ]
  },
  {
   "cell_type": "markdown",
   "id": "8b0710f9-7c4f-4fcb-a4e8-95672868639c",
   "metadata": {},
   "source": [
    "# ans 3"
   ]
  },
  {
   "cell_type": "code",
   "execution_count": 7,
   "id": "1f9e6f57-f95b-4f36-a3cc-2a395d5ebe92",
   "metadata": {},
   "outputs": [
    {
     "name": "stdout",
     "output_type": "stream",
     "text": [
      "[[1, 4, 7], [2, 5, 8], [3, 6, 9]]\n"
     ]
    }
   ],
   "source": [
    "def transpose(matrix):\n",
    "    m = len(matrix)\n",
    "    n = len(matrix[0])\n",
    "    result = [[0] * m for _ in range(n)]  # Initialize the result matrix\n",
    "\n",
    "    for i in range(m):\n",
    "        for j in range(n):\n",
    "            result[j][i] = matrix[i][j]\n",
    "\n",
    "    return result\n",
    "\n",
    "\n",
    "matrix = [[1, 2, 3], [4, 5, 6], [7, 8, 9]]\n",
    "\n",
    "result = transpose(matrix)\n",
    "print(result)\n"
   ]
  },
  {
   "cell_type": "markdown",
   "id": "aa29464e-fb63-425a-86f3-a3a4a47242bc",
   "metadata": {},
   "source": [
    "# ans 4"
   ]
  },
  {
   "cell_type": "code",
   "execution_count": 8,
   "id": "3f8ed1e5-1f25-4ff5-bb19-263f36aca76d",
   "metadata": {},
   "outputs": [
    {
     "name": "stdout",
     "output_type": "stream",
     "text": [
      "4\n"
     ]
    }
   ],
   "source": [
    "def array_pair_sum(nums):\n",
    "    nums.sort()\n",
    "    max_sum = 0\n",
    "\n",
    "    for i in range(0, len(nums), 2):\n",
    "        max_sum += nums[i]\n",
    "\n",
    "    return max_sum\n",
    "\n",
    "\n",
    "\n",
    "nums = [1, 4, 3, 2]\n",
    "\n",
    "result = array_pair_sum(nums)\n",
    "print(result)\n"
   ]
  },
  {
   "cell_type": "markdown",
   "id": "4fc524e9-d513-4a30-a3af-ecbf271e11d6",
   "metadata": {},
   "source": [
    "# ans 5"
   ]
  },
  {
   "cell_type": "code",
   "execution_count": 10,
   "id": "1d3ce380-3ba7-44bd-9e8b-47219637232e",
   "metadata": {},
   "outputs": [
    {
     "name": "stdout",
     "output_type": "stream",
     "text": [
      "2\n"
     ]
    }
   ],
   "source": [
    "def arrange_coins(n):\n",
    "    left = 1\n",
    "    right = n\n",
    "\n",
    "    while left <= right:\n",
    "        mid = left + (right - left) // 2\n",
    "        curr_sum = mid * (mid + 1) // 2\n",
    "\n",
    "        if curr_sum == n:\n",
    "            return mid\n",
    "\n",
    "        if curr_sum > n:\n",
    "            right = mid - 1\n",
    "        else:\n",
    "            left = mid + 1\n",
    "\n",
    "    return right\n",
    "\n",
    "\n",
    "\n",
    "n = 5\n",
    "\n",
    "result = arrange_coins(n)\n",
    "print(result)\n",
    "\n"
   ]
  },
  {
   "cell_type": "markdown",
   "id": "8a66af58-c072-4c09-8a98-8b2e4f4fbd59",
   "metadata": {},
   "source": [
    "# ans 6"
   ]
  },
  {
   "cell_type": "code",
   "execution_count": 11,
   "id": "0f11477c-e358-41d0-8e81-6020ed6a2d0f",
   "metadata": {},
   "outputs": [
    {
     "name": "stdout",
     "output_type": "stream",
     "text": [
      "[0, 1, 9, 16, 100]\n"
     ]
    }
   ],
   "source": [
    "def sorted_squares(nums):\n",
    "    result = []\n",
    "\n",
    "    for num in nums:\n",
    "        result.append(num * num)\n",
    "\n",
    "    result.sort()\n",
    "\n",
    "    return result\n",
    "\n",
    "\n",
    "nums = [-4, -1, 0, 3, 10]\n",
    "\n",
    "result = sorted_squares(nums)\n",
    "print(result)\n"
   ]
  },
  {
   "cell_type": "markdown",
   "id": "20a2c225-f156-417b-ae7c-396fe0732f66",
   "metadata": {},
   "source": [
    "# ans 7"
   ]
  },
  {
   "cell_type": "code",
   "execution_count": 12,
   "id": "1cc8df8a-7712-4df0-8043-d2b9addd355c",
   "metadata": {},
   "outputs": [
    {
     "name": "stdout",
     "output_type": "stream",
     "text": [
      "4\n"
     ]
    }
   ],
   "source": [
    "def max_count(m, n, ops):\n",
    "    min_rows = m\n",
    "    min_cols = n\n",
    "\n",
    "    for op in ops:\n",
    "        min_rows = min(min_rows, op[0])\n",
    "        min_cols = min(min_cols, op[1])\n",
    "\n",
    "    return min_rows * min_cols\n",
    "\n",
    "\n",
    "\n",
    "m = 3\n",
    "n = 3\n",
    "ops = [[2, 2], [3, 3]]\n",
    "\n",
    "result = max_count(m, n, ops)\n",
    "print(result)\n",
    "\n"
   ]
  },
  {
   "cell_type": "markdown",
   "id": "185a099c-bd67-40fa-b073-85195d0141c0",
   "metadata": {},
   "source": [
    "# ans 8"
   ]
  },
  {
   "cell_type": "code",
   "execution_count": 13,
   "id": "ad231778-ab1c-485d-9a89-e8362d3103b8",
   "metadata": {},
   "outputs": [
    {
     "name": "stdout",
     "output_type": "stream",
     "text": [
      "[2, 3, 5, 4, 1, 7]\n"
     ]
    }
   ],
   "source": [
    "def shuffle_array(nums, n):\n",
    "    x_nums = nums[:n]\n",
    "    y_nums = nums[n:]\n",
    "\n",
    "    result = []\n",
    "\n",
    "    for i in range(n):\n",
    "        result.append(x_nums[i])\n",
    "        result.append(y_nums[i])\n",
    "\n",
    "    return result\n",
    "\n",
    "\n",
    "\n",
    "nums = [2, 5, 1, 3, 4, 7]\n",
    "n = 3\n",
    "\n",
    "result = shuffle_array(nums, n)\n",
    "print(result)\n"
   ]
  },
  {
   "cell_type": "code",
   "execution_count": null,
   "id": "f39acbb7-ef89-4dae-b10e-e0931aabac65",
   "metadata": {},
   "outputs": [],
   "source": []
  }
 ],
 "metadata": {
  "kernelspec": {
   "display_name": "Python 3 (ipykernel)",
   "language": "python",
   "name": "python3"
  },
  "language_info": {
   "codemirror_mode": {
    "name": "ipython",
    "version": 3
   },
   "file_extension": ".py",
   "mimetype": "text/x-python",
   "name": "python",
   "nbconvert_exporter": "python",
   "pygments_lexer": "ipython3",
   "version": "3.10.8"
  }
 },
 "nbformat": 4,
 "nbformat_minor": 5
}
